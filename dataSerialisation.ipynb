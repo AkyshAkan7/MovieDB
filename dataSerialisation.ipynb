{
 "cells": [
  {
   "cell_type": "markdown",
   "metadata": {},
   "source": [
    "## Create __Star Wars__ rdf database\n",
    "__Key points:__\n",
    "- the code was run by __python 3.11__\n",
    "- The project must be located in the __Desktop__ folder directory. If you downloaded the file to another location, don't forget to change the path"
   ]
  },
  {
   "cell_type": "code",
   "execution_count": 35,
   "metadata": {},
   "outputs": [],
   "source": [
    "# import libraries\n",
    "from pathlib import Path\n",
    "import pandas as pd\n",
    "from rdflib import Graph, Literal, RDF, URIRef, Namespace\n",
    "# rdflib knows about some namespaces, like FOAF\n",
    "from rdflib.namespace import FOAF, XSD\n",
    "# regular expression\n",
    "import re\n",
    "# api requests\n",
    "import requests"
   ]
  },
  {
   "cell_type": "code",
   "execution_count": 9,
   "metadata": {},
   "outputs": [],
   "source": [
    "# file path\n",
    "homePath = str(Path.home())\n",
    "datasetPath = \"/Desktop/MovieDB/dataset\"\n",
    "charactersPath = homePath + datasetPath + \"/characters.csv\"\n",
    "planetsPath = homePath + datasetPath +\"/planets.csv\"\n",
    "speciesPath = homePath + datasetPath +\"/species.csv\"\n",
    "starshipsPath = homePath + datasetPath +\"/starships.csv\"\n",
    "vehiclesPath = homePath + datasetPath +\"/vehicles.csv\"\n",
    "\n",
    "# save path\n",
    "savePath = homePath + \"/Desktop/MovieDB/ttl/\""
   ]
  },
  {
   "cell_type": "code",
   "execution_count": 10,
   "metadata": {},
   "outputs": [],
   "source": [
    "# Define namespace for ontology\n",
    "namespace = Namespace(\"http://www.semanticweb.org/ontologies/database2/project/starwars/example10/\")"
   ]
  },
  {
   "cell_type": "code",
   "execution_count": 11,
   "metadata": {},
   "outputs": [],
   "source": [
    "# Function to create a valid URI component from a string\n",
    "def create_uri_component(string):\n",
    "    return re.sub(r'\\W+', '', string.replace(\" \", \"_\"))\n",
    "\n",
    "# Extract number from url\n",
    "# https://swapi.dev/api/planets/1/ -> 1\n",
    "def extract_number(string):\n",
    "    numbers = re.findall(r'\\d+', string)\n",
    "    return numbers[-1] if numbers else None"
   ]
  },
  {
   "cell_type": "markdown",
   "metadata": {},
   "source": [
    "## Starships"
   ]
  },
  {
   "cell_type": "code",
   "execution_count": 12,
   "metadata": {},
   "outputs": [
    {
     "name": "stdout",
     "output_type": "stream",
     "text": [
      "<class 'pandas.core.frame.DataFrame'>\n",
      "RangeIndex: 37 entries, 0 to 36\n",
      "Data columns (total 17 columns):\n",
      " #   Column                  Non-Null Count  Dtype \n",
      "---  ------                  --------------  ----- \n",
      " 0   name                    37 non-null     object\n",
      " 1   model                   37 non-null     object\n",
      " 2   manufacturer            37 non-null     object\n",
      " 3   cost_in_credits         37 non-null     object\n",
      " 4   length                  37 non-null     object\n",
      " 5   max_atmosphering_speed  37 non-null     object\n",
      " 6   crew                    37 non-null     object\n",
      " 7   passengers              37 non-null     object\n",
      " 8   cargo_capacity          37 non-null     object\n",
      " 9   consumables             37 non-null     object\n",
      " 10  hyperdrive_rating       37 non-null     object\n",
      " 11  MGLT                    37 non-null     object\n",
      " 12  starship_class          37 non-null     object\n",
      " 13  created                 37 non-null     object\n",
      " 14  edited                  37 non-null     object\n",
      " 15  url                     37 non-null     object\n",
      " 16  desc                    37 non-null     object\n",
      "dtypes: object(17)\n",
      "memory usage: 5.0+ KB\n"
     ]
    }
   ],
   "source": [
    "# Load the CSV file\n",
    "starships = pd.read_csv(starshipsPath, sep=',', keep_default_na=False, na_values=['_'])\n",
    "starships.info()"
   ]
  },
  {
   "cell_type": "code",
   "execution_count": 13,
   "metadata": {},
   "outputs": [],
   "source": [
    "#create a new graph\n",
    "g = Graph()"
   ]
  },
  {
   "cell_type": "code",
   "execution_count": 14,
   "metadata": {},
   "outputs": [],
   "source": [
    "#iterate over the starships dataframe\n",
    "for index, row in starships.iterrows():\n",
    "\n",
    "    # Extract id from starship api url\n",
    "    starshipId = extract_number(row['url'])\n",
    "    \n",
    "    StarshipURI = URIRef(namespace + create_uri_component(\"starship\"+ str(starshipId)))\n",
    "    \n",
    "    # Add triples using store's add() method.\n",
    "    g.add((StarshipURI, RDF.type, namespace.Starship))\n",
    "    g.add((StarshipURI, namespace['name'], Literal(row['name'], datatype=XSD.string)))\n",
    "    g.add((StarshipURI, namespace['model'], Literal(row['model'], datatype=XSD.string)))\n",
    "    g.add((StarshipURI, namespace['manufacturer'], Literal(row['manufacturer'], datatype=XSD.string)))\n",
    "    g.add((StarshipURI, namespace['costInCredits'], Literal(row['cost_in_credits'], datatype=XSD.string)))\n",
    "    g.add((StarshipURI, namespace['length'], Literal(row['length'], datatype=XSD.string)))\n",
    "    g.add((StarshipURI, namespace['maxAtmospheringSpeed'], Literal(row['max_atmosphering_speed'], datatype=XSD.string)))\n",
    "    g.add((StarshipURI, namespace['crew'], Literal(row['crew'], datatype=XSD.string)))\n",
    "    g.add((StarshipURI, namespace['passengers'], Literal(row['passengers'], datatype=XSD.string)))\n",
    "    g.add((StarshipURI, namespace['cargoCapacity'], Literal(row['cargo_capacity'], datatype=XSD.string)))\n",
    "    g.add((StarshipURI, namespace['consumables'], Literal(row['consumables'], datatype=XSD.string)))\n",
    "    g.add((StarshipURI, namespace['hyperdriveRating'], Literal(row['hyperdrive_rating'], datatype=XSD.string)))\n",
    "    g.add((StarshipURI, namespace['MGLT'], Literal(row['MGLT'], datatype=XSD.string)))\n",
    "    g.add((StarshipURI, namespace['starshipClass'], Literal(row['starship_class'], datatype=XSD.string)))"
   ]
  },
  {
   "cell_type": "code",
   "execution_count": 15,
   "metadata": {},
   "outputs": [],
   "source": [
    "# create planets ttl file\n",
    "with open(savePath + 'starships.ttl', 'w') as file:\n",
    "    file.write(g.serialize(format='turtle'))"
   ]
  },
  {
   "cell_type": "markdown",
   "metadata": {},
   "source": [
    "## Vehicles"
   ]
  },
  {
   "cell_type": "code",
   "execution_count": 16,
   "metadata": {},
   "outputs": [
    {
     "name": "stdout",
     "output_type": "stream",
     "text": [
      "<class 'pandas.core.frame.DataFrame'>\n",
      "RangeIndex: 39 entries, 0 to 38\n",
      "Data columns (total 15 columns):\n",
      " #   Column                  Non-Null Count  Dtype \n",
      "---  ------                  --------------  ----- \n",
      " 0   name                    39 non-null     object\n",
      " 1   model                   39 non-null     object\n",
      " 2   manufacturer            39 non-null     object\n",
      " 3   cost_in_credits         39 non-null     object\n",
      " 4   length                  39 non-null     object\n",
      " 5   max_atmosphering_speed  39 non-null     object\n",
      " 6   crew                    39 non-null     int64 \n",
      " 7   passengers              39 non-null     object\n",
      " 8   cargo_capacity          39 non-null     object\n",
      " 9   consumables             39 non-null     object\n",
      " 10  vehicle_class           39 non-null     object\n",
      " 11  created                 39 non-null     object\n",
      " 12  edited                  39 non-null     object\n",
      " 13  url                     39 non-null     object\n",
      " 14  desc                    39 non-null     object\n",
      "dtypes: int64(1), object(14)\n",
      "memory usage: 4.7+ KB\n"
     ]
    }
   ],
   "source": [
    "# Load the CSV file\n",
    "vehicles = pd.read_csv(vehiclesPath, sep=',', keep_default_na=False, na_values=['_'])\n",
    "vehicles.info()"
   ]
  },
  {
   "cell_type": "code",
   "execution_count": 17,
   "metadata": {},
   "outputs": [],
   "source": [
    "#create a new graph\n",
    "g = Graph()"
   ]
  },
  {
   "cell_type": "code",
   "execution_count": 18,
   "metadata": {},
   "outputs": [],
   "source": [
    "#iterate over the vehicles dataframe\n",
    "for index, row in vehicles.iterrows():\n",
    "\n",
    "    # Extract id from vehicle api url\n",
    "    vehicleId = extract_number(row['url'])\n",
    "    \n",
    "    VehicleURI = URIRef(namespace + create_uri_component(\"vehicle\"+ str(vehicleId)))\n",
    "    \n",
    "    # Add triples using store's add() method.\n",
    "    g.add((VehicleURI, RDF.type, namespace.Vehicle))\n",
    "    g.add((VehicleURI, namespace['name'], Literal(row['name'], datatype=XSD.string)))\n",
    "    g.add((VehicleURI, namespace['model'], Literal(row['model'], datatype=XSD.string)))\n",
    "    g.add((VehicleURI, namespace['manufacturer'], Literal(row['manufacturer'], datatype=XSD.string)))\n",
    "    g.add((VehicleURI, namespace['costInCredits'], Literal(row['cost_in_credits'], datatype=XSD.string)))\n",
    "    g.add((VehicleURI, namespace['length'], Literal(row['length'], datatype=XSD.string)))\n",
    "    g.add((VehicleURI, namespace['maxAtmospheringSpeed'], Literal(row['max_atmosphering_speed'], datatype=XSD.string)))\n",
    "    g.add((VehicleURI, namespace['crew'], Literal(row['crew'], datatype=XSD.string)))\n",
    "    g.add((VehicleURI, namespace['passengers'], Literal(row['passengers'], datatype=XSD.string)))\n",
    "    g.add((VehicleURI, namespace['cargoCapacity'], Literal(row['cargo_capacity'], datatype=XSD.string)))\n",
    "    g.add((VehicleURI, namespace['consumables'], Literal(row['consumables'], datatype=XSD.string)))\n",
    "    g.add((VehicleURI, namespace['VehicleClass'], Literal(row['vehicle_class'], datatype=XSD.string)))"
   ]
  },
  {
   "cell_type": "code",
   "execution_count": 19,
   "metadata": {},
   "outputs": [],
   "source": [
    "# create vehicle ttl file\n",
    "with open(savePath + 'vehicles.ttl', 'w') as file:\n",
    "    file.write(g.serialize(format='turtle'))"
   ]
  },
  {
   "cell_type": "markdown",
   "metadata": {},
   "source": [
    "## Planets"
   ]
  },
  {
   "cell_type": "code",
   "execution_count": 20,
   "metadata": {},
   "outputs": [
    {
     "name": "stdout",
     "output_type": "stream",
     "text": [
      "<class 'pandas.core.frame.DataFrame'>\n",
      "RangeIndex: 61 entries, 0 to 60\n",
      "Data columns (total 13 columns):\n",
      " #   Column           Non-Null Count  Dtype \n",
      "---  ------           --------------  ----- \n",
      " 0   name             61 non-null     object\n",
      " 1   rotation_period  61 non-null     object\n",
      " 2   orbital_period   61 non-null     object\n",
      " 3   diameter         61 non-null     object\n",
      " 4   climate          61 non-null     object\n",
      " 5   gravity          61 non-null     object\n",
      " 6   terrain          61 non-null     object\n",
      " 7   surface_water    61 non-null     object\n",
      " 8   population       61 non-null     object\n",
      " 9   created          61 non-null     object\n",
      " 10  edited           61 non-null     object\n",
      " 11  url              61 non-null     object\n",
      " 12  desc             61 non-null     object\n",
      "dtypes: object(13)\n",
      "memory usage: 6.3+ KB\n"
     ]
    }
   ],
   "source": [
    "# Load the CSV file\n",
    "planets = pd.read_csv(planetsPath, sep=',', keep_default_na=False, na_values=['_'])\n",
    "planets.info()"
   ]
  },
  {
   "cell_type": "code",
   "execution_count": 21,
   "metadata": {},
   "outputs": [],
   "source": [
    "#create a new graph\n",
    "g = Graph()"
   ]
  },
  {
   "cell_type": "code",
   "execution_count": 22,
   "metadata": {},
   "outputs": [],
   "source": [
    "#iterate over the planets dataframe\n",
    "for index, row in planets.iterrows():\n",
    "\n",
    "    # Extract id from planet api url\n",
    "    planetId = extract_number(row['url'])\n",
    "    \n",
    "    PlanetURI = URIRef(namespace + create_uri_component(\"planet\"+ str(planetId)))\n",
    "    \n",
    "    # Add triples using store's add() method.\n",
    "    g.add((PlanetURI, RDF.type, namespace.Planet))\n",
    "    g.add((PlanetURI, namespace['name'], Literal(row['name'], datatype=XSD.string)))\n",
    "    g.add((PlanetURI, namespace['rotationPeriod'], Literal(row['rotation_period'])))\n",
    "    g.add((PlanetURI, namespace['orbitalPeriod'], Literal(row['orbital_period'])))\n",
    "    g.add((PlanetURI, namespace['diameter'], Literal(row['diameter'])))\n",
    "    g.add((PlanetURI, namespace['climate'], Literal(row['climate'])))\n",
    "    g.add((PlanetURI, namespace['gravity'], Literal(row['gravity'])))\n",
    "    g.add((PlanetURI, namespace['terrain'], Literal(row['terrain'])))\n",
    "    g.add((PlanetURI, namespace['surfaceWater'], Literal(row['surface_water'])))\n",
    "    g.add((PlanetURI, namespace['population'], Literal(row['population'])))"
   ]
  },
  {
   "cell_type": "code",
   "execution_count": 23,
   "metadata": {},
   "outputs": [],
   "source": [
    "# create planets ttl file\n",
    "with open(savePath + 'planets.ttl', 'w') as file:\n",
    "    file.write(g.serialize(format='turtle'))"
   ]
  },
  {
   "cell_type": "markdown",
   "metadata": {},
   "source": [
    "## Species"
   ]
  },
  {
   "cell_type": "code",
   "execution_count": 24,
   "metadata": {},
   "outputs": [
    {
     "name": "stdout",
     "output_type": "stream",
     "text": [
      "<class 'pandas.core.frame.DataFrame'>\n",
      "RangeIndex: 37 entries, 0 to 36\n",
      "Data columns (total 14 columns):\n",
      " #   Column            Non-Null Count  Dtype \n",
      "---  ------            --------------  ----- \n",
      " 0   name              37 non-null     object\n",
      " 1   classification    37 non-null     object\n",
      " 2   designation       37 non-null     object\n",
      " 3   average_height    37 non-null     object\n",
      " 4   skin_colors       37 non-null     object\n",
      " 5   hair_colors       37 non-null     object\n",
      " 6   eye_colors        37 non-null     object\n",
      " 7   average_lifespan  37 non-null     object\n",
      " 8   homeworld         37 non-null     object\n",
      " 9   language          37 non-null     object\n",
      " 10  created           37 non-null     object\n",
      " 11  edited            37 non-null     object\n",
      " 12  url               37 non-null     object\n",
      " 13  desc              37 non-null     object\n",
      "dtypes: object(14)\n",
      "memory usage: 4.2+ KB\n"
     ]
    }
   ],
   "source": [
    "# Load the CSV file\n",
    "species = pd.read_csv(speciesPath, sep=',', keep_default_na=False, na_values=['_'])\n",
    "species.info()"
   ]
  },
  {
   "cell_type": "code",
   "execution_count": 25,
   "metadata": {},
   "outputs": [],
   "source": [
    "# Create a new graph\n",
    "g = Graph()"
   ]
  },
  {
   "cell_type": "code",
   "execution_count": 26,
   "metadata": {},
   "outputs": [],
   "source": [
    "#iterate over the species dataframe\n",
    "for index, row in species.iterrows():\n",
    "\n",
    "    # Extract id from specie api url\n",
    "    specieId = extract_number(row['url'])\n",
    "\n",
    "    Specie = URIRef(namespace + create_uri_component(\"specie\"+ str(specieId)))\n",
    "    \n",
    "    # Add triples using store's add() method.\n",
    "    g.add((Specie, RDF.type, namespace.Character))\n",
    "    g.add((Specie, namespace['name'], Literal(row['name'], datatype=XSD.string)))\n",
    "    g.add((Specie, namespace['classification'], Literal(row['classification'])))\n",
    "    g.add((Specie, namespace['averageHeight'], Literal(row['average_height'])))\n",
    "    \n",
    "    g.add((Specie, namespace['skinColors'], Literal(row['skin_colors'])))\n",
    "    g.add((Specie, namespace['hairColors'], Literal(row['hair_colors'])))\n",
    "    g.add((Specie, namespace['eyeColors'], Literal(row['eye_colors'])))\n",
    "    g.add((Specie, namespace['averageLifespan'], Literal(row['average_lifespan'])))\n",
    "    g.add((Specie, namespace['language'], Literal(row['language'])))\n",
    "    \n",
    "    # Extract id from hometown api url\n",
    "    planetId = extract_number(row['homeworld'])\n",
    "\n",
    "    if planetId:\n",
    "        planetName = create_uri_component(\"planet\" + planetId)\n",
    "        g.add((Specie, namespace['homeworld'], URIRef(namespace[planetName])))"
   ]
  },
  {
   "cell_type": "code",
   "execution_count": 27,
   "metadata": {},
   "outputs": [],
   "source": [
    "# create species ttl file\n",
    "with open(savePath + 'species.ttl', 'w') as file:\n",
    "    file.write(g.serialize(format='turtle'))"
   ]
  },
  {
   "cell_type": "markdown",
   "metadata": {},
   "source": [
    "## Characters"
   ]
  },
  {
   "cell_type": "code",
   "execution_count": 45,
   "metadata": {},
   "outputs": [
    {
     "name": "stdout",
     "output_type": "stream",
     "text": [
      "<class 'pandas.core.frame.DataFrame'>\n",
      "RangeIndex: 87 entries, 0 to 86\n",
      "Data columns (total 13 columns):\n",
      " #   Column      Non-Null Count  Dtype \n",
      "---  ------      --------------  ----- \n",
      " 0   name        87 non-null     object\n",
      " 1   height      87 non-null     object\n",
      " 2   mass        87 non-null     object\n",
      " 3   hair_color  87 non-null     object\n",
      " 4   skin_color  87 non-null     object\n",
      " 5   eye_color   87 non-null     object\n",
      " 6   birth_year  87 non-null     object\n",
      " 7   gender      87 non-null     object\n",
      " 8   homeworld   87 non-null     object\n",
      " 9   created     87 non-null     object\n",
      " 10  edited      87 non-null     object\n",
      " 11  url         87 non-null     object\n",
      " 12  desc        87 non-null     object\n",
      "dtypes: object(13)\n",
      "memory usage: 9.0+ KB\n"
     ]
    }
   ],
   "source": [
    "# Load the CSV file\n",
    "characters = pd.read_csv(charactersPath, sep=',', keep_default_na=False, na_values=['_'])\n",
    "characters.info()"
   ]
  },
  {
   "cell_type": "code",
   "execution_count": 46,
   "metadata": {},
   "outputs": [],
   "source": [
    "# Create a new graph\n",
    "g = Graph()"
   ]
  },
  {
   "cell_type": "code",
   "execution_count": 47,
   "metadata": {},
   "outputs": [
    {
     "name": "stdout",
     "output_type": "stream",
     "text": [
      "Successfully data retrieved for: http://www.semanticweb.org/ontologies/database2/project/starwars/example10/character1\n",
      "Successfully data retrieved for: http://www.semanticweb.org/ontologies/database2/project/starwars/example10/character2\n",
      "Successfully data retrieved for: http://www.semanticweb.org/ontologies/database2/project/starwars/example10/character3\n",
      "Successfully data retrieved for: http://www.semanticweb.org/ontologies/database2/project/starwars/example10/character4\n",
      "Successfully data retrieved for: http://www.semanticweb.org/ontologies/database2/project/starwars/example10/character5\n",
      "Successfully data retrieved for: http://www.semanticweb.org/ontologies/database2/project/starwars/example10/character6\n",
      "Successfully data retrieved for: http://www.semanticweb.org/ontologies/database2/project/starwars/example10/character7\n",
      "Successfully data retrieved for: http://www.semanticweb.org/ontologies/database2/project/starwars/example10/character8\n",
      "Successfully data retrieved for: http://www.semanticweb.org/ontologies/database2/project/starwars/example10/character9\n",
      "Successfully data retrieved for: http://www.semanticweb.org/ontologies/database2/project/starwars/example10/character10\n",
      "Successfully data retrieved for: http://www.semanticweb.org/ontologies/database2/project/starwars/example10/character11\n",
      "Successfully data retrieved for: http://www.semanticweb.org/ontologies/database2/project/starwars/example10/character12\n",
      "Successfully data retrieved for: http://www.semanticweb.org/ontologies/database2/project/starwars/example10/character13\n",
      "Successfully data retrieved for: http://www.semanticweb.org/ontologies/database2/project/starwars/example10/character14\n",
      "Successfully data retrieved for: http://www.semanticweb.org/ontologies/database2/project/starwars/example10/character15\n",
      "Successfully data retrieved for: http://www.semanticweb.org/ontologies/database2/project/starwars/example10/character16\n",
      "Successfully data retrieved for: http://www.semanticweb.org/ontologies/database2/project/starwars/example10/character18\n",
      "Successfully data retrieved for: http://www.semanticweb.org/ontologies/database2/project/starwars/example10/character19\n",
      "Successfully data retrieved for: http://www.semanticweb.org/ontologies/database2/project/starwars/example10/character20\n",
      "Successfully data retrieved for: http://www.semanticweb.org/ontologies/database2/project/starwars/example10/character21\n",
      "Successfully data retrieved for: http://www.semanticweb.org/ontologies/database2/project/starwars/example10/character22\n",
      "Successfully data retrieved for: http://www.semanticweb.org/ontologies/database2/project/starwars/example10/character23\n",
      "Successfully data retrieved for: http://www.semanticweb.org/ontologies/database2/project/starwars/example10/character24\n",
      "Successfully data retrieved for: http://www.semanticweb.org/ontologies/database2/project/starwars/example10/character25\n",
      "Successfully data retrieved for: http://www.semanticweb.org/ontologies/database2/project/starwars/example10/character26\n",
      "Successfully data retrieved for: http://www.semanticweb.org/ontologies/database2/project/starwars/example10/character27\n",
      "Successfully data retrieved for: http://www.semanticweb.org/ontologies/database2/project/starwars/example10/character28\n",
      "Successfully data retrieved for: http://www.semanticweb.org/ontologies/database2/project/starwars/example10/character29\n",
      "Successfully data retrieved for: http://www.semanticweb.org/ontologies/database2/project/starwars/example10/character30\n",
      "Successfully data retrieved for: http://www.semanticweb.org/ontologies/database2/project/starwars/example10/character31\n",
      "Successfully data retrieved for: http://www.semanticweb.org/ontologies/database2/project/starwars/example10/character32\n",
      "Successfully data retrieved for: http://www.semanticweb.org/ontologies/database2/project/starwars/example10/character33\n",
      "Successfully data retrieved for: http://www.semanticweb.org/ontologies/database2/project/starwars/example10/character34\n",
      "Successfully data retrieved for: http://www.semanticweb.org/ontologies/database2/project/starwars/example10/character36\n",
      "Successfully data retrieved for: http://www.semanticweb.org/ontologies/database2/project/starwars/example10/character37\n",
      "Successfully data retrieved for: http://www.semanticweb.org/ontologies/database2/project/starwars/example10/character38\n",
      "Successfully data retrieved for: http://www.semanticweb.org/ontologies/database2/project/starwars/example10/character39\n",
      "Successfully data retrieved for: http://www.semanticweb.org/ontologies/database2/project/starwars/example10/character40\n",
      "Successfully data retrieved for: http://www.semanticweb.org/ontologies/database2/project/starwars/example10/character41\n",
      "Successfully data retrieved for: http://www.semanticweb.org/ontologies/database2/project/starwars/example10/character42\n",
      "Successfully data retrieved for: http://www.semanticweb.org/ontologies/database2/project/starwars/example10/character43\n",
      "Successfully data retrieved for: http://www.semanticweb.org/ontologies/database2/project/starwars/example10/character44\n",
      "Successfully data retrieved for: http://www.semanticweb.org/ontologies/database2/project/starwars/example10/character45\n",
      "Successfully data retrieved for: http://www.semanticweb.org/ontologies/database2/project/starwars/example10/character46\n",
      "Successfully data retrieved for: http://www.semanticweb.org/ontologies/database2/project/starwars/example10/character48\n",
      "Successfully data retrieved for: http://www.semanticweb.org/ontologies/database2/project/starwars/example10/character49\n",
      "Successfully data retrieved for: http://www.semanticweb.org/ontologies/database2/project/starwars/example10/character50\n",
      "Successfully data retrieved for: http://www.semanticweb.org/ontologies/database2/project/starwars/example10/character51\n",
      "Successfully data retrieved for: http://www.semanticweb.org/ontologies/database2/project/starwars/example10/character52\n",
      "Successfully data retrieved for: http://www.semanticweb.org/ontologies/database2/project/starwars/example10/character53\n",
      "Successfully data retrieved for: http://www.semanticweb.org/ontologies/database2/project/starwars/example10/character54\n",
      "Successfully data retrieved for: http://www.semanticweb.org/ontologies/database2/project/starwars/example10/character55\n",
      "Successfully data retrieved for: http://www.semanticweb.org/ontologies/database2/project/starwars/example10/character56\n",
      "Successfully data retrieved for: http://www.semanticweb.org/ontologies/database2/project/starwars/example10/character57\n",
      "Successfully data retrieved for: http://www.semanticweb.org/ontologies/database2/project/starwars/example10/character58\n",
      "Successfully data retrieved for: http://www.semanticweb.org/ontologies/database2/project/starwars/example10/character59\n",
      "Successfully data retrieved for: http://www.semanticweb.org/ontologies/database2/project/starwars/example10/character60\n",
      "Successfully data retrieved for: http://www.semanticweb.org/ontologies/database2/project/starwars/example10/character61\n",
      "Successfully data retrieved for: http://www.semanticweb.org/ontologies/database2/project/starwars/example10/character62\n",
      "Successfully data retrieved for: http://www.semanticweb.org/ontologies/database2/project/starwars/example10/character63\n",
      "Successfully data retrieved for: http://www.semanticweb.org/ontologies/database2/project/starwars/example10/character64\n",
      "Successfully data retrieved for: http://www.semanticweb.org/ontologies/database2/project/starwars/example10/character65\n",
      "Successfully data retrieved for: http://www.semanticweb.org/ontologies/database2/project/starwars/example10/character66\n",
      "Successfully data retrieved for: http://www.semanticweb.org/ontologies/database2/project/starwars/example10/character67\n",
      "Successfully data retrieved for: http://www.semanticweb.org/ontologies/database2/project/starwars/example10/character68\n",
      "Successfully data retrieved for: http://www.semanticweb.org/ontologies/database2/project/starwars/example10/character69\n",
      "Successfully data retrieved for: http://www.semanticweb.org/ontologies/database2/project/starwars/example10/character70\n",
      "Successfully data retrieved for: http://www.semanticweb.org/ontologies/database2/project/starwars/example10/character71\n",
      "Successfully data retrieved for: http://www.semanticweb.org/ontologies/database2/project/starwars/example10/character72\n",
      "Successfully data retrieved for: http://www.semanticweb.org/ontologies/database2/project/starwars/example10/character73\n",
      "Successfully data retrieved for: http://www.semanticweb.org/ontologies/database2/project/starwars/example10/character74\n",
      "Successfully data retrieved for: http://www.semanticweb.org/ontologies/database2/project/starwars/example10/character47\n",
      "Successfully data retrieved for: http://www.semanticweb.org/ontologies/database2/project/starwars/example10/character75\n",
      "Successfully data retrieved for: http://www.semanticweb.org/ontologies/database2/project/starwars/example10/character76\n",
      "Successfully data retrieved for: http://www.semanticweb.org/ontologies/database2/project/starwars/example10/character77\n",
      "Successfully data retrieved for: http://www.semanticweb.org/ontologies/database2/project/starwars/example10/character78\n",
      "Successfully data retrieved for: http://www.semanticweb.org/ontologies/database2/project/starwars/example10/character79\n",
      "Successfully data retrieved for: http://www.semanticweb.org/ontologies/database2/project/starwars/example10/character80\n",
      "Successfully data retrieved for: http://www.semanticweb.org/ontologies/database2/project/starwars/example10/character81\n",
      "Successfully data retrieved for: http://www.semanticweb.org/ontologies/database2/project/starwars/example10/character82\n",
      "Successfully data retrieved for: http://www.semanticweb.org/ontologies/database2/project/starwars/example10/character83\n",
      "Failed to retrieve data: 404\n",
      "Failed to retrieve data: 404\n",
      "Failed to retrieve data: 404\n",
      "Failed to retrieve data: 404\n",
      "Failed to retrieve data: 404\n",
      "Successfully data retrieved for: http://www.semanticweb.org/ontologies/database2/project/starwars/example10/character35\n"
     ]
    }
   ],
   "source": [
    "#iterate over the characters dataframe\n",
    "for index, row in characters.iterrows():\n",
    "\n",
    "    # Extract id from character api url\n",
    "    characterId = extract_number(row['url'])\n",
    "\n",
    "    Character = URIRef(namespace + create_uri_component(\"character\"+ str(characterId)))\n",
    "    \n",
    "    # Add triples using store's add() method.\n",
    "    g.add((Character, RDF.type, namespace.Character))\n",
    "    g.add((Character, namespace['name'], Literal(row['name'], datatype=XSD.string)))\n",
    "    g.add((Character, namespace['height'], Literal(row['height'])))\n",
    "    g.add((Character, namespace['mass'], Literal(row['mass'])))\n",
    "    g.add((Character, namespace['hairColor'], Literal(row['hair_color'])))\n",
    "    g.add((Character, namespace['skinColor'], Literal(row['skin_color'])))\n",
    "    g.add((Character, namespace['eyeColor'], Literal(row['eye_color'])))\n",
    "    g.add((Character, namespace['birthYear'], Literal(row['birth_year'])))\n",
    "    g.add((Character, namespace['gender'], Literal(row['gender'])))\n",
    "\n",
    "    # Extract id from hometown api url\n",
    "    planetId = extract_number(row['homeworld'])\n",
    "    planetName = create_uri_component(\"planet\" + planetId)\n",
    "    \n",
    "    g.add((Character, namespace['homeworld'], URIRef(namespace[planetName])))\n",
    "\n",
    "    # Get additional information from character api url\n",
    "    # Wait about 2 mins for all requests will be finished\n",
    "    response = requests.get(row['url'])\n",
    "    # Success\n",
    "    if response.status_code == 200:\n",
    "        data = response.json()\n",
    "        starships = data.get('starships', [])\n",
    "        if starships:\n",
    "            for starship in starships:\n",
    "                starshipId = extract_number(starship)\n",
    "                starshipName = create_uri_component(\"starship\" + starshipId)\n",
    "                g.add((Character, namespace['hasStarship'], URIRef(namespace[starshipName])))\n",
    "    \n",
    "        vehicles = data.get('vehicles', [])\n",
    "        if vehicles:\n",
    "            for vehicle in vehicles:\n",
    "                vehicleId = extract_number(vehicle)\n",
    "                vehicleName = create_uri_component(\"vehicle\" + vehicleId)\n",
    "                g.add((Character, namespace['hasVehicle'], URIRef(namespace[vehicleName])))\n",
    "                \n",
    "        species = data.get('species', [])\n",
    "        if species:\n",
    "            for specie in species:\n",
    "                specieId = extract_number(specie)\n",
    "                specieName = create_uri_component(\"specie\" + specieId)\n",
    "                g.add((Character, namespace['type'], URIRef(namespace[specieName])))\n",
    "        print(f\"Successfully data retrieved for: {Character}\")\n",
    "    # Fail\n",
    "    else:\n",
    "        print(f\"Failed to retrieve data: {response.status_code}\")"
   ]
  },
  {
   "cell_type": "code",
   "execution_count": 48,
   "metadata": {},
   "outputs": [],
   "source": [
    "# create characters ttl file\n",
    "with open(savePath + 'characters.ttl', 'w') as file:\n",
    "    file.write(g.serialize(format='turtle'))"
   ]
  },
  {
   "cell_type": "code",
   "execution_count": null,
   "metadata": {},
   "outputs": [],
   "source": []
  }
 ],
 "metadata": {
  "kernelspec": {
   "display_name": "Python 3 (ipykernel)",
   "language": "python",
   "name": "python3"
  },
  "language_info": {
   "codemirror_mode": {
    "name": "ipython",
    "version": 3
   },
   "file_extension": ".py",
   "mimetype": "text/x-python",
   "name": "python",
   "nbconvert_exporter": "python",
   "pygments_lexer": "ipython3",
   "version": "3.11.6"
  }
 },
 "nbformat": 4,
 "nbformat_minor": 4
}
