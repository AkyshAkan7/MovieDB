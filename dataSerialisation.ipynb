{
 "cells": [
  {
   "cell_type": "markdown",
   "metadata": {},
   "source": [
    "## Create __Star Wars__ rdf database\n",
    "__Key points:__\n",
    "- the code was run by __python 3.11__\n",
    "- The project must be located in the __Desktop__ folder directory. If you downloaded the file to another location, don't forget to change the path"
   ]
  },
  {
   "cell_type": "code",
   "execution_count": 56,
   "metadata": {},
   "outputs": [],
   "source": [
    "# import libraries\n",
    "from pathlib import Path\n",
    "import pandas as pd\n",
    "from rdflib import Graph, Literal, RDF, URIRef, Namespace\n",
    "# rdflib knows about some namespaces, like FOAF\n",
    "from rdflib.namespace import FOAF, XSD\n",
    "# regular expression\n",
    "import re"
   ]
  },
  {
   "cell_type": "code",
   "execution_count": 57,
   "metadata": {},
   "outputs": [],
   "source": [
    "# file path\n",
    "homePath = str(Path.home())\n",
    "datasetPath = \"/Desktop/MovieDB/dataset\"\n",
    "charactersPath = homePath + datasetPath + \"/characters.csv\"\n",
    "planetsPath = homePath + datasetPath +\"/planets.csv\"\n",
    "speciesPath = homePath + datasetPath +\"/species.csv\"\n",
    "starshipsPath = homePath + datasetPath +\"/starships.csv\"\n",
    "vehiclesPath = homePath + datasetPath +\"/vehicles.csv\"\n",
    "\n",
    "# save path\n",
    "savePath = homePath + \"/Desktop/MovieDB/ttl/\""
   ]
  },
  {
   "cell_type": "code",
   "execution_count": 58,
   "metadata": {},
   "outputs": [],
   "source": [
    "# Define namespace for ontology\n",
    "namespace = Namespace(\"http://www.semanticweb.org/ontologies/database2/project/starwars/example4/\")"
   ]
  },
  {
   "cell_type": "markdown",
   "metadata": {},
   "source": [
    "## Characters"
   ]
  },
  {
   "cell_type": "code",
   "execution_count": 59,
   "metadata": {},
   "outputs": [
    {
     "name": "stdout",
     "output_type": "stream",
     "text": [
      "<class 'pandas.core.frame.DataFrame'>\n",
      "RangeIndex: 87 entries, 0 to 86\n",
      "Data columns (total 10 columns):\n",
      " #   Column      Non-Null Count  Dtype \n",
      "---  ------      --------------  ----- \n",
      " 0   name        87 non-null     object\n",
      " 1   height      87 non-null     object\n",
      " 2   mass        87 non-null     object\n",
      " 3   hair_color  87 non-null     object\n",
      " 4   skin_color  87 non-null     object\n",
      " 5   eye_color   87 non-null     object\n",
      " 6   birth_year  87 non-null     object\n",
      " 7   gender      87 non-null     object\n",
      " 8   homeworld   87 non-null     object\n",
      " 9   species     87 non-null     object\n",
      "dtypes: object(10)\n",
      "memory usage: 6.9+ KB\n"
     ]
    }
   ],
   "source": [
    "# Load the CSV file\n",
    "characters = pd.read_csv(charactersPath, sep=',', keep_default_na=False, na_values=['_'])\n",
    "characters.info()"
   ]
  },
  {
   "cell_type": "code",
   "execution_count": 60,
   "metadata": {},
   "outputs": [],
   "source": [
    "# Create a new graph\n",
    "g = Graph()\n",
    "\n",
    "# Bind the namespaces to a prefix for more readable output\n",
    "g.bind(\"foaf\", FOAF)\n",
    "g.bind(\"xsd\", XSD)\n",
    "g.bind(\"namespace\", namespace)"
   ]
  },
  {
   "cell_type": "code",
   "execution_count": 61,
   "metadata": {},
   "outputs": [],
   "source": [
    "# Function to create a valid URI component from a string\n",
    "def create_uri_component(string):\n",
    "    return re.sub(r'\\W+', '', string.replace(\" \", \"_\"))\n",
    "\n",
    "#iterate over the characters dataframe\n",
    "for index, row in characters.iterrows():\n",
    "    Character = URIRef(namespace + create_uri_component(row['name']))\n",
    "    \n",
    "    # Add triples using store's add() method.\n",
    "    g.add((Character, RDF.type, namespace.Character))\n",
    "    g.add((Character, namespace['name'], Literal(row['name'], datatype=XSD.string)))\n",
    "    g.add((Character, namespace['height'], Literal(row['height'])))\n",
    "    g.add((Character, namespace['mass'], Literal(row['mass'])))\n",
    "    g.add((Character, namespace['hairColor'], Literal(row['hair_color'])))\n",
    "    g.add((Character, namespace['skinColor'], Literal(row['skin_color'])))\n",
    "    g.add((Character, namespace['eyeColor'], Literal(row['eye_color'])))\n",
    "    g.add((Character, namespace['birthYear'], Literal(row['birth_year'])))\n",
    "    g.add((Character, namespace['gender'], Literal(row['gender'])))\n",
    "    g.add((Character, namespace['homeworld'], Literal(row['homeworld'])))\n",
    "    g.add((Character, namespace['species'], Literal(row['species'])))"
   ]
  },
  {
   "cell_type": "code",
   "execution_count": 62,
   "metadata": {},
   "outputs": [],
   "source": [
    "# create characters ttl file\n",
    "with open(savePath + 'characters.ttl', 'w') as file:\n",
    "    file.write(g.serialize(format='turtle'))"
   ]
  },
  {
   "cell_type": "markdown",
   "metadata": {},
   "source": [
    "## Planets"
   ]
  },
  {
   "cell_type": "code",
   "execution_count": 63,
   "metadata": {},
   "outputs": [
    {
     "name": "stdout",
     "output_type": "stream",
     "text": [
      "<class 'pandas.core.frame.DataFrame'>\n",
      "RangeIndex: 61 entries, 0 to 60\n",
      "Data columns (total 9 columns):\n",
      " #   Column           Non-Null Count  Dtype \n",
      "---  ------           --------------  ----- \n",
      " 0   name             61 non-null     object\n",
      " 1   rotation_period  61 non-null     object\n",
      " 2   orbital_period   61 non-null     object\n",
      " 3   diameter         61 non-null     object\n",
      " 4   climate          61 non-null     object\n",
      " 5   gravity          61 non-null     object\n",
      " 6   terrain          61 non-null     object\n",
      " 7   surface_water    61 non-null     object\n",
      " 8   population       61 non-null     object\n",
      "dtypes: object(9)\n",
      "memory usage: 4.4+ KB\n"
     ]
    }
   ],
   "source": [
    "# Load the CSV file\n",
    "planets = pd.read_csv(planetsPath, sep=',', keep_default_na=False, na_values=['_'])\n",
    "planets.info()"
   ]
  },
  {
   "cell_type": "code",
   "execution_count": 64,
   "metadata": {},
   "outputs": [],
   "source": [
    "#create a new graph\n",
    "g = Graph()\n",
    "\n",
    "# Bind the namespaces to a prefix for more readable output\n",
    "g.bind(\"foaf\", FOAF)\n",
    "g.bind(\"xsd\", XSD)\n",
    "g.bind(\"namespace\", namespace)"
   ]
  },
  {
   "cell_type": "code",
   "execution_count": 65,
   "metadata": {},
   "outputs": [],
   "source": [
    "#iterate over the characters dataframe\n",
    "for index, row in planets.iterrows():\n",
    "    Planet = URIRef(namespace + create_uri_component(row['name']))\n",
    "    \n",
    "    # Add triples using store's add() method.\n",
    "    g.add((Planet, RDF.type, namespace.Planet))\n",
    "    g.add((Planet, namespace['name'], Literal(row['name'], datatype=XSD.string)))\n",
    "    g.add((Planet, namespace['rotationPeriod'], Literal(row['rotation_period'])))\n",
    "    g.add((Planet, namespace['orbitalPeriod'], Literal(row['orbital_period'])))\n",
    "    g.add((Planet, namespace['diameter'], Literal(row['diameter'])))\n",
    "    g.add((Planet, namespace['climate'], Literal(row['climate'])))\n",
    "    g.add((Planet, namespace['gravity'], Literal(row['gravity'])))\n",
    "    g.add((Planet, namespace['terrain'], Literal(row['terrain'])))\n",
    "    g.add((Planet, namespace['surfaceWater'], Literal(row['surface_water'])))\n",
    "    g.add((Planet, namespace['population'], Literal(row['population'])))"
   ]
  },
  {
   "cell_type": "code",
   "execution_count": 66,
   "metadata": {},
   "outputs": [],
   "source": [
    "# create planets ttl file\n",
    "with open(savePath + 'planets.ttl', 'w') as file:\n",
    "    file.write(g.serialize(format='turtle'))"
   ]
  },
  {
   "cell_type": "code",
   "execution_count": null,
   "metadata": {},
   "outputs": [],
   "source": []
  }
 ],
 "metadata": {
  "kernelspec": {
   "display_name": "Python 3 (ipykernel)",
   "language": "python",
   "name": "python3"
  },
  "language_info": {
   "codemirror_mode": {
    "name": "ipython",
    "version": 3
   },
   "file_extension": ".py",
   "mimetype": "text/x-python",
   "name": "python",
   "nbconvert_exporter": "python",
   "pygments_lexer": "ipython3",
   "version": "3.11.6"
  }
 },
 "nbformat": 4,
 "nbformat_minor": 4
}
