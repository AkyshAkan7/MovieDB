{
 "cells": [
  {
   "cell_type": "markdown",
   "metadata": {},
   "source": [
    "## Create __Star Wars__ rdf database\n",
    "__Key points:__\n",
    "- the code was run by __python 3.11__\n",
    "- The project must be located in the __Desktop__ folder directory. If you downloaded the file to another location, don't forget to change the path"
   ]
  },
  {
   "cell_type": "code",
   "execution_count": 1,
   "metadata": {},
   "outputs": [],
   "source": [
    "# import libraries\n",
    "from pathlib import Path\n",
    "import pandas as pd\n",
    "from rdflib import Graph, Literal, RDF, URIRef, Namespace, RDFS\n",
    "# rdflib knows about some namespaces, like FOAF\n",
    "from rdflib.namespace import FOAF, XSD\n",
    "# regular expression\n",
    "import re\n",
    "# api requests\n",
    "import requests"
   ]
  },
  {
   "cell_type": "code",
   "execution_count": 2,
   "metadata": {},
   "outputs": [],
   "source": [
    "# file path\n",
    "homePath = str(Path.home())\n",
    "datasetPath = \"/Desktop/MovieDB/dataset\"\n",
    "charactersPath = homePath + datasetPath + \"/characters.csv\"\n",
    "planetsPath = homePath + datasetPath +\"/planets.csv\"\n",
    "speciesPath = homePath + datasetPath +\"/species.csv\"\n",
    "starshipsPath = homePath + datasetPath +\"/starships.csv\"\n",
    "vehiclesPath = homePath + datasetPath +\"/vehicles.csv\"\n",
    "\n",
    "# save path\n",
    "savePath = homePath + \"/Desktop/MovieDB/ttl/\""
   ]
  },
  {
   "cell_type": "code",
   "execution_count": 3,
   "metadata": {},
   "outputs": [],
   "source": [
    "# Define namespace for ontology\n",
    "namespace = Namespace(\"http://www.dei.unipd.it/database2/IMDbOntology/\")"
   ]
  },
  {
   "cell_type": "code",
   "execution_count": 4,
   "metadata": {},
   "outputs": [],
   "source": [
    "# Function to create a valid URI component from a string\n",
    "def create_uri_component(string):\n",
    "    return re.sub(r'\\W+', '', string.replace(\" \", \"_\"))\n",
    "\n",
    "# Extract number from url\n",
    "# https://swapi.dev/api/planets/1/ -> 1\n",
    "def extract_number(string):\n",
    "    numbers = re.findall(r'\\d+', string)\n",
    "    return numbers[-1] if numbers else None"
   ]
  },
  {
   "cell_type": "markdown",
   "metadata": {},
   "source": [
    "## Starships"
   ]
  },
  {
   "cell_type": "code",
   "execution_count": 5,
   "metadata": {},
   "outputs": [
    {
     "name": "stdout",
     "output_type": "stream",
     "text": [
      "<class 'pandas.core.frame.DataFrame'>\n",
      "RangeIndex: 37 entries, 0 to 36\n",
      "Data columns (total 17 columns):\n",
      " #   Column                  Non-Null Count  Dtype \n",
      "---  ------                  --------------  ----- \n",
      " 0   name                    37 non-null     object\n",
      " 1   model                   37 non-null     object\n",
      " 2   manufacturer            37 non-null     object\n",
      " 3   cost_in_credits         37 non-null     object\n",
      " 4   length                  37 non-null     object\n",
      " 5   max_atmosphering_speed  37 non-null     object\n",
      " 6   crew                    37 non-null     object\n",
      " 7   passengers              37 non-null     object\n",
      " 8   cargo_capacity          37 non-null     object\n",
      " 9   consumables             37 non-null     object\n",
      " 10  hyperdrive_rating       37 non-null     object\n",
      " 11  MGLT                    37 non-null     object\n",
      " 12  starship_class          37 non-null     object\n",
      " 13  created                 37 non-null     object\n",
      " 14  edited                  37 non-null     object\n",
      " 15  url                     37 non-null     object\n",
      " 16  desc                    37 non-null     object\n",
      "dtypes: object(17)\n",
      "memory usage: 5.0+ KB\n"
     ]
    }
   ],
   "source": [
    "# Load the CSV file\n",
    "starships = pd.read_csv(starshipsPath, sep=',', keep_default_na=False, na_values=['_'])\n",
    "starships.info()"
   ]
  },
  {
   "cell_type": "code",
   "execution_count": 6,
   "metadata": {},
   "outputs": [],
   "source": [
    "#create a new graph\n",
    "g = Graph()"
   ]
  },
  {
   "cell_type": "code",
   "execution_count": 7,
   "metadata": {},
   "outputs": [],
   "source": [
    "#iterate over the starships dataframe\n",
    "for index, row in starships.iterrows():\n",
    "\n",
    "    # Extract id from starship api url\n",
    "    starshipId = extract_number(row['url'])\n",
    "    \n",
    "    StarshipURI = URIRef(namespace + create_uri_component(\"starship\"+ str(starshipId)))\n",
    "    \n",
    "    # Add triples using store's add() method.\n",
    "    g.add((StarshipURI, RDF.type, namespace.Starship))\n",
    "    if row['name']: \n",
    "        g.add((StarshipURI, RDFS.label, Literal(row['name'])))\n",
    "        g.add((StarshipURI, namespace['name'], Literal(row['name'], datatype=XSD.string)))\n",
    "    if row['model']: g.add((StarshipURI, namespace['model'], Literal(row['model'], datatype=XSD.string)))\n",
    "    if row['manufacturer']: g.add((StarshipURI, namespace['manufacturer'], Literal(row['manufacturer'], datatype=XSD.string)))\n",
    "    if row['cost_in_credits']: g.add((StarshipURI, namespace['costInCredits'], Literal(row['cost_in_credits'], datatype=XSD.integer)))\n",
    "    if row['length']: g.add((StarshipURI, namespace['length'], Literal(row['length'])))\n",
    "    if row['max_atmosphering_speed']: \n",
    "        maxSpeedInt = re.sub('[^0-9]', '', row['max_atmosphering_speed'])\n",
    "        g.add((StarshipURI, namespace['maxAtmospheringSpeed'], Literal(maxSpeedInt, datatype=XSD.integer)))\n",
    "    if row['crew']: g.add((StarshipURI, namespace['crew'], Literal(row['crew'], datatype=XSD.integer)))\n",
    "    if row['passengers']: g.add((StarshipURI, namespace['passengers'], Literal(row['passengers'], datatype=XSD.integer)))\n",
    "    if row['cargo_capacity']: g.add((StarshipURI, namespace['cargoCapacity'], Literal(row['cargo_capacity'], datatype=XSD.integer)))\n",
    "    if row['consumables']: g.add((StarshipURI, namespace['consumables'], Literal(row['consumables'], datatype=XSD.string)))\n",
    "    if row['hyperdrive_rating']: g.add((StarshipURI, namespace['hyperdriveRating'], Literal(row['hyperdrive_rating'], datatype=XSD.float)))\n",
    "    if row['MGLT']: g.add((StarshipURI, namespace['MGLT'], Literal(row['MGLT'], datatype=XSD.integer)))\n",
    "    if row['starship_class']: g.add((StarshipURI, namespace['starshipClass'], Literal(row['starship_class'], datatype=XSD.string)))"
   ]
  },
  {
   "cell_type": "code",
   "execution_count": 8,
   "metadata": {},
   "outputs": [],
   "source": [
    "# create planets ttl file\n",
    "with open(savePath + 'starships.ttl', 'w') as file:\n",
    "    file.write(g.serialize(format='turtle'))"
   ]
  },
  {
   "cell_type": "markdown",
   "metadata": {},
   "source": [
    "## Vehicles"
   ]
  },
  {
   "cell_type": "code",
   "execution_count": 9,
   "metadata": {},
   "outputs": [
    {
     "name": "stdout",
     "output_type": "stream",
     "text": [
      "<class 'pandas.core.frame.DataFrame'>\n",
      "RangeIndex: 39 entries, 0 to 38\n",
      "Data columns (total 15 columns):\n",
      " #   Column                  Non-Null Count  Dtype \n",
      "---  ------                  --------------  ----- \n",
      " 0   name                    39 non-null     object\n",
      " 1   model                   39 non-null     object\n",
      " 2   manufacturer            39 non-null     object\n",
      " 3   cost_in_credits         39 non-null     object\n",
      " 4   length                  39 non-null     object\n",
      " 5   max_atmosphering_speed  39 non-null     object\n",
      " 6   crew                    39 non-null     int64 \n",
      " 7   passengers              39 non-null     object\n",
      " 8   cargo_capacity          39 non-null     object\n",
      " 9   consumables             39 non-null     object\n",
      " 10  vehicle_class           39 non-null     object\n",
      " 11  created                 39 non-null     object\n",
      " 12  edited                  39 non-null     object\n",
      " 13  url                     39 non-null     object\n",
      " 14  desc                    39 non-null     object\n",
      "dtypes: int64(1), object(14)\n",
      "memory usage: 4.7+ KB\n"
     ]
    }
   ],
   "source": [
    "# Load the CSV file\n",
    "vehicles = pd.read_csv(vehiclesPath, sep=',', keep_default_na=False, na_values=['_'])\n",
    "vehicles.info()"
   ]
  },
  {
   "cell_type": "code",
   "execution_count": 10,
   "metadata": {},
   "outputs": [],
   "source": [
    "#create a new graph\n",
    "g = Graph()"
   ]
  },
  {
   "cell_type": "code",
   "execution_count": 11,
   "metadata": {},
   "outputs": [],
   "source": [
    "#iterate over the vehicles dataframe\n",
    "for index, row in vehicles.iterrows():\n",
    "\n",
    "    # Extract id from vehicle api url\n",
    "    vehicleId = extract_number(row['url'])\n",
    "    \n",
    "    VehicleURI = URIRef(namespace + create_uri_component(\"vehicle\"+ str(vehicleId)))\n",
    "    \n",
    "    # Add triples using store's add() method.\n",
    "    g.add((VehicleURI, RDF.type, namespace.Vehicle))\n",
    "    if row['name']: \n",
    "        g.add((VehicleURI, RDFS.label, Literal(row['name'])))\n",
    "        g.add((VehicleURI, namespace['name'], Literal(row['name'], datatype=XSD.string)))\n",
    "    if row['model']: g.add((VehicleURI, namespace['model'], Literal(row['model'], datatype=XSD.string)))\n",
    "    if row['manufacturer']: g.add((VehicleURI, namespace['manufacturer'], Literal(row['manufacturer'], datatype=XSD.string)))\n",
    "    if row['cost_in_credits']: g.add((VehicleURI, namespace['costInCredits'], Literal(row['cost_in_credits'], datatype=XSD.integer)))\n",
    "    if row['length']: g.add((VehicleURI, namespace['length'], Literal(row['length'], datatype=XSD.string)))\n",
    "    if row['max_atmosphering_speed']: g.add((VehicleURI, namespace['maxAtmospheringSpeed'], Literal(row['max_atmosphering_speed'], datatype=XSD.string)))\n",
    "    if row['crew']: g.add((VehicleURI, namespace['crew'], Literal(row['crew'], datatype=XSD.integer)))\n",
    "    if row['passengers']: g.add((VehicleURI, namespace['passengers'], Literal(row['passengers'], datatype=XSD.integer)))\n",
    "    if row['cargo_capacity']: g.add((VehicleURI, namespace['cargoCapacity'], Literal(row['cargo_capacity'], datatype=XSD.string)))\n",
    "    if row['consumables']: g.add((VehicleURI, namespace['consumables'], Literal(row['consumables'], datatype=XSD.string)))\n",
    "    if row['vehicle_class']: g.add((VehicleURI, namespace['VehicleClass'], Literal(row['vehicle_class'], datatype=XSD.string)))"
   ]
  },
  {
   "cell_type": "code",
   "execution_count": 12,
   "metadata": {},
   "outputs": [],
   "source": [
    "# create vehicle ttl file\n",
    "with open(savePath + 'vehicles.ttl', 'w') as file:\n",
    "    file.write(g.serialize(format='turtle'))"
   ]
  },
  {
   "cell_type": "markdown",
   "metadata": {},
   "source": [
    "## Planets"
   ]
  },
  {
   "cell_type": "code",
   "execution_count": 13,
   "metadata": {},
   "outputs": [
    {
     "name": "stdout",
     "output_type": "stream",
     "text": [
      "<class 'pandas.core.frame.DataFrame'>\n",
      "RangeIndex: 61 entries, 0 to 60\n",
      "Data columns (total 13 columns):\n",
      " #   Column           Non-Null Count  Dtype \n",
      "---  ------           --------------  ----- \n",
      " 0   name             61 non-null     object\n",
      " 1   rotation_period  61 non-null     object\n",
      " 2   orbital_period   61 non-null     object\n",
      " 3   diameter         61 non-null     object\n",
      " 4   climate          61 non-null     object\n",
      " 5   gravity          61 non-null     object\n",
      " 6   terrain          61 non-null     object\n",
      " 7   surface_water    61 non-null     object\n",
      " 8   population       61 non-null     object\n",
      " 9   created          61 non-null     object\n",
      " 10  edited           61 non-null     object\n",
      " 11  url              61 non-null     object\n",
      " 12  desc             61 non-null     object\n",
      "dtypes: object(13)\n",
      "memory usage: 6.3+ KB\n"
     ]
    }
   ],
   "source": [
    "# Load the CSV file\n",
    "planets = pd.read_csv(planetsPath, sep=',', keep_default_na=False, na_values=['_'])\n",
    "planets.info()"
   ]
  },
  {
   "cell_type": "code",
   "execution_count": 14,
   "metadata": {},
   "outputs": [],
   "source": [
    "#create a new graph\n",
    "g = Graph()"
   ]
  },
  {
   "cell_type": "code",
   "execution_count": 15,
   "metadata": {},
   "outputs": [],
   "source": [
    "#iterate over the planets dataframe\n",
    "for index, row in planets.iterrows():\n",
    "\n",
    "    # Extract id from planet api url\n",
    "    planetId = extract_number(row['url'])\n",
    "    \n",
    "    PlanetURI = URIRef(namespace + create_uri_component(\"planet\"+ str(planetId)))\n",
    "    \n",
    "    # Add triples using store's add() method.\n",
    "    g.add((PlanetURI, RDF.type, namespace.Planet))\n",
    "    g.add((PlanetURI, RDFS.label, Literal(row['name'])))\n",
    "    if row['name']: g.add((PlanetURI, namespace['name'], Literal(row['name'], datatype=XSD.string)))\n",
    "    if row['rotation_period']: g.add((PlanetURI, namespace['rotationPeriod'], Literal(row['rotation_period'], datatype=XSD.integer)))\n",
    "    if row['orbital_period']: g.add((PlanetURI, namespace['orbitalPeriod'], Literal(row['orbital_period'], datatype=XSD.integer)))\n",
    "    if row['diameter']: g.add((PlanetURI, namespace['diameter'], Literal(row['diameter'], datatype=XSD.integer)))\n",
    "    if row['climate']: g.add((PlanetURI, namespace['climate'], Literal(row['climate'], datatype=XSD.string)))\n",
    "    if row['gravity']: g.add((PlanetURI, namespace['gravity'], Literal(row['gravity'], datatype=XSD.string)))\n",
    "        \n",
    "    if row['terrain']:\n",
    "        terrainsSeparated = [value.strip() for value in row['terrain'].split(',')]\n",
    "        for terrain in terrainsSeparated:\n",
    "            g.add((PlanetURI, namespace['terrain'], Literal(terrain, datatype=XSD.string)))\n",
    "        \n",
    "    if row['surface_water']: g.add((PlanetURI, namespace['surfaceWater'], Literal(row['surface_water'], datatype=XSD.float)))\n",
    "    if row['population']: g.add((PlanetURI, namespace['population'], Literal(row['population'], datatype=XSD.integer)))"
   ]
  },
  {
   "cell_type": "code",
   "execution_count": 16,
   "metadata": {},
   "outputs": [],
   "source": [
    "# create planets ttl file\n",
    "with open(savePath + 'planets.ttl', 'w') as file:\n",
    "    file.write(g.serialize(format='turtle'))"
   ]
  },
  {
   "cell_type": "markdown",
   "metadata": {},
   "source": [
    "## Species"
   ]
  },
  {
   "cell_type": "code",
   "execution_count": 17,
   "metadata": {},
   "outputs": [
    {
     "name": "stdout",
     "output_type": "stream",
     "text": [
      "<class 'pandas.core.frame.DataFrame'>\n",
      "RangeIndex: 37 entries, 0 to 36\n",
      "Data columns (total 14 columns):\n",
      " #   Column            Non-Null Count  Dtype \n",
      "---  ------            --------------  ----- \n",
      " 0   name              37 non-null     object\n",
      " 1   classification    37 non-null     object\n",
      " 2   designation       37 non-null     object\n",
      " 3   average_height    37 non-null     object\n",
      " 4   skin_colors       37 non-null     object\n",
      " 5   hair_colors       37 non-null     object\n",
      " 6   eye_colors        37 non-null     object\n",
      " 7   average_lifespan  37 non-null     object\n",
      " 8   homeworld         37 non-null     object\n",
      " 9   language          37 non-null     object\n",
      " 10  created           37 non-null     object\n",
      " 11  edited            37 non-null     object\n",
      " 12  url               37 non-null     object\n",
      " 13  desc              37 non-null     object\n",
      "dtypes: object(14)\n",
      "memory usage: 4.2+ KB\n"
     ]
    }
   ],
   "source": [
    "# Load the CSV file\n",
    "species = pd.read_csv(speciesPath, sep=',', keep_default_na=False, na_values=['_'])\n",
    "species.info()"
   ]
  },
  {
   "cell_type": "code",
   "execution_count": 18,
   "metadata": {},
   "outputs": [],
   "source": [
    "# Create a new graph\n",
    "g = Graph()"
   ]
  },
  {
   "cell_type": "code",
   "execution_count": 19,
   "metadata": {},
   "outputs": [],
   "source": [
    "#iterate over the species dataframe\n",
    "for index, row in species.iterrows():\n",
    "\n",
    "    # Extract id from specie api url\n",
    "    specieId = extract_number(row['url'])\n",
    "\n",
    "    Specie = URIRef(namespace + create_uri_component(\"specie\"+ str(specieId)))\n",
    "    \n",
    "    # Add triples using store's add() method.\n",
    "    g.add((Specie, RDF.type, namespace.Specie))\n",
    "    if row['name']:\n",
    "        g.add((Specie, RDFS.label, Literal(row['name'])))\n",
    "        g.add((Specie, namespace['name'], Literal(row['name'], datatype=XSD.string)))\n",
    "    if row['classification']: g.add((Specie, namespace['classification'], Literal(row['classification'], datatype=XSD.string)))\n",
    "    if row['average_height']: g.add((Specie, namespace['averageHeight'], Literal(row['average_height'], datatype=XSD.integer)))\n",
    "    \n",
    "    if row['skin_colors']:\n",
    "        skinColorsSeparated = [value.strip() for value in row['skin_colors'].split(',')]\n",
    "        for skinColor in skinColorsSeparated:\n",
    "            g.add((Specie, namespace['skinColor'], Literal(skinColor)))\n",
    "\n",
    "    if row['hair_colors']:\n",
    "        hairColorsSeparated = [value.strip() for value in row['hair_colors'].split(',')]\n",
    "        for hairColor in hairColorsSeparated:\n",
    "            g.add((Specie, namespace['hairColor'], Literal(hairColor)))\n",
    "\n",
    "    if row['eye_colors']:\n",
    "        eyeColorsSeparated = [value.strip() for value in row['eye_colors'].split(',')]\n",
    "        for eyeColor in eyeColorsSeparated:\n",
    "            g.add((Specie, namespace['eyeColor'], Literal(eyeColor)))\n",
    "    \n",
    "    if row['average_lifespan'] and isinstance(row['average_lifespan'], int): \n",
    "        g.add((Specie, namespace['averageLifespan'], Literal(row['average_lifespan'], datatype=XSD.integer)))\n",
    "    if row['language']: g.add((Specie, namespace['language'], Literal(row['language'], datatype=XSD.string)))\n",
    "    \n",
    "    # Extract id from hometown api url\n",
    "    planetId = extract_number(row['homeworld'])\n",
    "\n",
    "    if planetId:\n",
    "        planetName = create_uri_component(\"planet\" + planetId)\n",
    "        g.add((Specie, namespace['homeworld'], URIRef(namespace[planetName])))"
   ]
  },
  {
   "cell_type": "code",
   "execution_count": 20,
   "metadata": {},
   "outputs": [],
   "source": [
    "# create species ttl file\n",
    "with open(savePath + 'species.ttl', 'w') as file:\n",
    "    file.write(g.serialize(format='turtle'))"
   ]
  },
  {
   "cell_type": "markdown",
   "metadata": {},
   "source": [
    "## Characters"
   ]
  },
  {
   "cell_type": "code",
   "execution_count": 21,
   "metadata": {},
   "outputs": [
    {
     "name": "stdout",
     "output_type": "stream",
     "text": [
      "<class 'pandas.core.frame.DataFrame'>\n",
      "RangeIndex: 87 entries, 0 to 86\n",
      "Data columns (total 13 columns):\n",
      " #   Column      Non-Null Count  Dtype \n",
      "---  ------      --------------  ----- \n",
      " 0   name        87 non-null     object\n",
      " 1   height      87 non-null     object\n",
      " 2   mass        87 non-null     object\n",
      " 3   hair_color  87 non-null     object\n",
      " 4   skin_color  87 non-null     object\n",
      " 5   eye_color   87 non-null     object\n",
      " 6   birth_year  87 non-null     object\n",
      " 7   gender      87 non-null     object\n",
      " 8   homeworld   87 non-null     object\n",
      " 9   created     87 non-null     object\n",
      " 10  edited      87 non-null     object\n",
      " 11  url         87 non-null     object\n",
      " 12  desc        87 non-null     object\n",
      "dtypes: object(13)\n",
      "memory usage: 9.0+ KB\n"
     ]
    }
   ],
   "source": [
    "# Load the CSV file\n",
    "characters = pd.read_csv(charactersPath, sep=',', keep_default_na=False, na_values=['_'])\n",
    "characters.info()"
   ]
  },
  {
   "cell_type": "code",
   "execution_count": 22,
   "metadata": {},
   "outputs": [],
   "source": [
    "# Create a new graph\n",
    "g = Graph()"
   ]
  },
  {
   "cell_type": "code",
   "execution_count": 23,
   "metadata": {},
   "outputs": [
    {
     "name": "stdout",
     "output_type": "stream",
     "text": [
      "Successfully data retrieved for: http://www.dei.unipd.it/database2/IMDbOntology/character1\n",
      "Successfully data retrieved for: http://www.dei.unipd.it/database2/IMDbOntology/character2\n",
      "Successfully data retrieved for: http://www.dei.unipd.it/database2/IMDbOntology/character3\n",
      "Successfully data retrieved for: http://www.dei.unipd.it/database2/IMDbOntology/character4\n",
      "Successfully data retrieved for: http://www.dei.unipd.it/database2/IMDbOntology/character5\n",
      "Successfully data retrieved for: http://www.dei.unipd.it/database2/IMDbOntology/character6\n",
      "Successfully data retrieved for: http://www.dei.unipd.it/database2/IMDbOntology/character7\n",
      "Successfully data retrieved for: http://www.dei.unipd.it/database2/IMDbOntology/character8\n",
      "Successfully data retrieved for: http://www.dei.unipd.it/database2/IMDbOntology/character9\n",
      "Successfully data retrieved for: http://www.dei.unipd.it/database2/IMDbOntology/character10\n",
      "Successfully data retrieved for: http://www.dei.unipd.it/database2/IMDbOntology/character11\n",
      "Successfully data retrieved for: http://www.dei.unipd.it/database2/IMDbOntology/character12\n",
      "Successfully data retrieved for: http://www.dei.unipd.it/database2/IMDbOntology/character13\n",
      "Successfully data retrieved for: http://www.dei.unipd.it/database2/IMDbOntology/character14\n",
      "Successfully data retrieved for: http://www.dei.unipd.it/database2/IMDbOntology/character15\n",
      "Successfully data retrieved for: http://www.dei.unipd.it/database2/IMDbOntology/character16\n",
      "Successfully data retrieved for: http://www.dei.unipd.it/database2/IMDbOntology/character18\n",
      "Successfully data retrieved for: http://www.dei.unipd.it/database2/IMDbOntology/character19\n",
      "Successfully data retrieved for: http://www.dei.unipd.it/database2/IMDbOntology/character20\n",
      "Successfully data retrieved for: http://www.dei.unipd.it/database2/IMDbOntology/character21\n",
      "Successfully data retrieved for: http://www.dei.unipd.it/database2/IMDbOntology/character22\n",
      "Successfully data retrieved for: http://www.dei.unipd.it/database2/IMDbOntology/character23\n",
      "Successfully data retrieved for: http://www.dei.unipd.it/database2/IMDbOntology/character24\n",
      "Successfully data retrieved for: http://www.dei.unipd.it/database2/IMDbOntology/character25\n",
      "Successfully data retrieved for: http://www.dei.unipd.it/database2/IMDbOntology/character26\n",
      "Successfully data retrieved for: http://www.dei.unipd.it/database2/IMDbOntology/character27\n",
      "Successfully data retrieved for: http://www.dei.unipd.it/database2/IMDbOntology/character28\n",
      "Successfully data retrieved for: http://www.dei.unipd.it/database2/IMDbOntology/character29\n",
      "Successfully data retrieved for: http://www.dei.unipd.it/database2/IMDbOntology/character30\n",
      "Successfully data retrieved for: http://www.dei.unipd.it/database2/IMDbOntology/character31\n",
      "Successfully data retrieved for: http://www.dei.unipd.it/database2/IMDbOntology/character32\n",
      "Successfully data retrieved for: http://www.dei.unipd.it/database2/IMDbOntology/character33\n",
      "Successfully data retrieved for: http://www.dei.unipd.it/database2/IMDbOntology/character34\n",
      "Successfully data retrieved for: http://www.dei.unipd.it/database2/IMDbOntology/character36\n",
      "Successfully data retrieved for: http://www.dei.unipd.it/database2/IMDbOntology/character37\n",
      "Successfully data retrieved for: http://www.dei.unipd.it/database2/IMDbOntology/character38\n",
      "Successfully data retrieved for: http://www.dei.unipd.it/database2/IMDbOntology/character39\n",
      "Successfully data retrieved for: http://www.dei.unipd.it/database2/IMDbOntology/character40\n",
      "Successfully data retrieved for: http://www.dei.unipd.it/database2/IMDbOntology/character41\n",
      "Successfully data retrieved for: http://www.dei.unipd.it/database2/IMDbOntology/character42\n",
      "Successfully data retrieved for: http://www.dei.unipd.it/database2/IMDbOntology/character43\n",
      "Successfully data retrieved for: http://www.dei.unipd.it/database2/IMDbOntology/character44\n",
      "Successfully data retrieved for: http://www.dei.unipd.it/database2/IMDbOntology/character45\n",
      "Successfully data retrieved for: http://www.dei.unipd.it/database2/IMDbOntology/character46\n",
      "Successfully data retrieved for: http://www.dei.unipd.it/database2/IMDbOntology/character48\n",
      "Successfully data retrieved for: http://www.dei.unipd.it/database2/IMDbOntology/character49\n",
      "Successfully data retrieved for: http://www.dei.unipd.it/database2/IMDbOntology/character50\n",
      "Successfully data retrieved for: http://www.dei.unipd.it/database2/IMDbOntology/character51\n",
      "Successfully data retrieved for: http://www.dei.unipd.it/database2/IMDbOntology/character52\n",
      "Successfully data retrieved for: http://www.dei.unipd.it/database2/IMDbOntology/character53\n",
      "Successfully data retrieved for: http://www.dei.unipd.it/database2/IMDbOntology/character54\n",
      "Successfully data retrieved for: http://www.dei.unipd.it/database2/IMDbOntology/character55\n",
      "Successfully data retrieved for: http://www.dei.unipd.it/database2/IMDbOntology/character56\n",
      "Successfully data retrieved for: http://www.dei.unipd.it/database2/IMDbOntology/character57\n",
      "Successfully data retrieved for: http://www.dei.unipd.it/database2/IMDbOntology/character58\n",
      "Successfully data retrieved for: http://www.dei.unipd.it/database2/IMDbOntology/character59\n",
      "Successfully data retrieved for: http://www.dei.unipd.it/database2/IMDbOntology/character60\n",
      "Successfully data retrieved for: http://www.dei.unipd.it/database2/IMDbOntology/character61\n",
      "Successfully data retrieved for: http://www.dei.unipd.it/database2/IMDbOntology/character62\n",
      "Successfully data retrieved for: http://www.dei.unipd.it/database2/IMDbOntology/character63\n",
      "Successfully data retrieved for: http://www.dei.unipd.it/database2/IMDbOntology/character64\n",
      "Successfully data retrieved for: http://www.dei.unipd.it/database2/IMDbOntology/character65\n",
      "Successfully data retrieved for: http://www.dei.unipd.it/database2/IMDbOntology/character66\n",
      "Successfully data retrieved for: http://www.dei.unipd.it/database2/IMDbOntology/character67\n",
      "Successfully data retrieved for: http://www.dei.unipd.it/database2/IMDbOntology/character68\n",
      "Successfully data retrieved for: http://www.dei.unipd.it/database2/IMDbOntology/character69\n",
      "Successfully data retrieved for: http://www.dei.unipd.it/database2/IMDbOntology/character70\n",
      "Successfully data retrieved for: http://www.dei.unipd.it/database2/IMDbOntology/character71\n",
      "Successfully data retrieved for: http://www.dei.unipd.it/database2/IMDbOntology/character72\n",
      "Successfully data retrieved for: http://www.dei.unipd.it/database2/IMDbOntology/character73\n",
      "Successfully data retrieved for: http://www.dei.unipd.it/database2/IMDbOntology/character74\n",
      "Successfully data retrieved for: http://www.dei.unipd.it/database2/IMDbOntology/character47\n",
      "Successfully data retrieved for: http://www.dei.unipd.it/database2/IMDbOntology/character75\n",
      "Successfully data retrieved for: http://www.dei.unipd.it/database2/IMDbOntology/character76\n",
      "Successfully data retrieved for: http://www.dei.unipd.it/database2/IMDbOntology/character77\n",
      "Successfully data retrieved for: http://www.dei.unipd.it/database2/IMDbOntology/character78\n",
      "Successfully data retrieved for: http://www.dei.unipd.it/database2/IMDbOntology/character79\n",
      "Successfully data retrieved for: http://www.dei.unipd.it/database2/IMDbOntology/character80\n",
      "Successfully data retrieved for: http://www.dei.unipd.it/database2/IMDbOntology/character81\n",
      "Successfully data retrieved for: http://www.dei.unipd.it/database2/IMDbOntology/character82\n",
      "Successfully data retrieved for: http://www.dei.unipd.it/database2/IMDbOntology/character83\n",
      "Failed to retrieve data: 404\n",
      "Failed to retrieve data: 404\n",
      "Failed to retrieve data: 404\n",
      "Failed to retrieve data: 404\n",
      "Failed to retrieve data: 404\n",
      "Successfully data retrieved for: http://www.dei.unipd.it/database2/IMDbOntology/character35\n"
     ]
    }
   ],
   "source": [
    "#iterate over the characters dataframe\n",
    "for index, row in characters.iterrows():\n",
    "\n",
    "    # Extract id from character api url\n",
    "    characterId = extract_number(row['url'])\n",
    "\n",
    "    Character = URIRef(namespace + create_uri_component(\"character\"+ str(characterId)))\n",
    "    \n",
    "    # Add triples using store's add() method.\n",
    "    g.add((Character, RDF.type, namespace.Character))\n",
    "    if row['name']:\n",
    "        g.add((Character, RDFS.label, Literal(row['name'])))\n",
    "        g.add((Character, namespace['name'], Literal(row['name'], datatype=XSD.string)))\n",
    "    if row['height']: g.add((Character, namespace['height'], Literal(row['height'], datatype=XSD.integer)))\n",
    "    if row['mass']: g.add((Character, namespace['mass'], Literal(row['mass'], datatype=XSD.float)))\n",
    "\n",
    "    if row['skin_color']:\n",
    "        skinColorsSeparated = [value.strip() for value in row['skin_color'].split(',')]\n",
    "        for skinColor in skinColorsSeparated:\n",
    "            g.add((Character, namespace['skinColor'], Literal(skinColor, datatype=XSD.string)))\n",
    "\n",
    "    if row['hair_color']:\n",
    "        hairColorsSeparated = [value.strip() for value in row['hair_color'].split(',')]\n",
    "        for hairColor in hairColorsSeparated:\n",
    "            g.add((Character, namespace['hairColor'], Literal(hairColor, datatype=XSD.string)))\n",
    "\n",
    "    if row['eye_color']:\n",
    "        eyeColorsSeparated = [value.strip() for value in row['eye_color'].split(',')]\n",
    "        for eyeColor in eyeColorsSeparated:\n",
    "            g.add((Character, namespace['eyeColor'], Literal(eyeColor, datatype=XSD.string)))\n",
    "            \n",
    "    if row['birth_year']: g.add((Character, namespace['birthYear'], Literal(row['birth_year'], datatype=XSD.string)))\n",
    "    if row['gender']: g.add((Character, namespace['gender'], Literal(row['gender'], datatype=XSD.string)))\n",
    "\n",
    "    # Extract id from hometown api url\n",
    "    planetId = extract_number(row['homeworld'])\n",
    "    planetName = create_uri_component(\"planet\" + planetId)\n",
    "    \n",
    "    g.add((Character, namespace['homeworld'], URIRef(namespace[planetName])))\n",
    "\n",
    "    # Get additional information from character api url\n",
    "    # Wait about 2 mins for all requests will be finished\n",
    "    response = requests.get(row['url'])\n",
    "    # Success\n",
    "    if response.status_code == 200:\n",
    "        data = response.json()\n",
    "        starships = data.get('starships', [])\n",
    "        if starships:\n",
    "            for starship in starships:\n",
    "                starshipId = extract_number(starship)\n",
    "                starshipName = create_uri_component(\"starship\" + starshipId)\n",
    "                g.add((Character, namespace['hasStarship'], URIRef(namespace[starshipName])))\n",
    "    \n",
    "        vehicles = data.get('vehicles', [])\n",
    "        if vehicles:\n",
    "            for vehicle in vehicles:\n",
    "                vehicleId = extract_number(vehicle)\n",
    "                vehicleName = create_uri_component(\"vehicle\" + vehicleId)\n",
    "                g.add((Character, namespace['hasVehicle'], URIRef(namespace[vehicleName])))\n",
    "                \n",
    "        species = data.get('species', [])\n",
    "        if species:\n",
    "            for specie in species:\n",
    "                specieId = extract_number(specie)\n",
    "                specieName = create_uri_component(\"specie\" + specieId)\n",
    "                g.add((Character, namespace['type'], URIRef(namespace[specieName])))\n",
    "        print(f\"Successfully data retrieved for: {Character}\")\n",
    "    # Fail\n",
    "    else:\n",
    "        print(f\"Failed to retrieve data: {response.status_code}\")"
   ]
  },
  {
   "cell_type": "code",
   "execution_count": 24,
   "metadata": {},
   "outputs": [],
   "source": [
    "# create characters ttl file\n",
    "with open(savePath + 'characters.ttl', 'w') as file:\n",
    "    file.write(g.serialize(format='turtle'))"
   ]
  }
 ],
 "metadata": {
  "kernelspec": {
   "display_name": "Python 3 (ipykernel)",
   "language": "python",
   "name": "python3"
  },
  "language_info": {
   "codemirror_mode": {
    "name": "ipython",
    "version": 3
   },
   "file_extension": ".py",
   "mimetype": "text/x-python",
   "name": "python",
   "nbconvert_exporter": "python",
   "pygments_lexer": "ipython3",
   "version": "3.11.6"
  }
 },
 "nbformat": 4,
 "nbformat_minor": 4
}
